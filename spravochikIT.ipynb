{
  "nbformat": 4,
  "nbformat_minor": 0,
  "metadata": {
    "colab": {
      "provenance": [],
      "authorship_tag": "ABX9TyPpA7281g9pzqX4SGBdXgMo",
      "include_colab_link": true
    },
    "kernelspec": {
      "name": "python3",
      "display_name": "Python 3"
    },
    "language_info": {
      "name": "python"
    }
  },
  "cells": [
    {
      "cell_type": "markdown",
      "metadata": {
        "id": "view-in-github",
        "colab_type": "text"
      },
      "source": [
        "<a href=\"https://colab.research.google.com/github/PotapovaOksanaQA/PotapovaOksanaQA.github.io/blob/main/%D1%81%D0%BF%D1%80%D0%B0%D0%B2%D0%BE%D1%87%D0%BD%D0%B8%D0%BA.ipynb\" target=\"_parent\"><img src=\"https://colab.research.google.com/assets/colab-badge.svg\" alt=\"Open In Colab\"/></a>"
      ]
    },
    {
      "cell_type": "code",
      "execution_count": 1,
      "metadata": {
        "colab": {
          "base_uri": "https://localhost:8080/"
        },
        "id": "7PeqSh78w5ms",
        "outputId": "6f134b18-38ba-44a7-8496-2420cd5a8406"
      },
      "outputs": [
        {
          "output_type": "stream",
          "name": "stdout",
          "text": [
            "Collecting pyTelegramBotAPI\n",
            "  Downloading pytelegrambotapi-4.16.1-py3-none-any.whl (232 kB)\n",
            "\u001b[?25l     \u001b[90m━━━━━━━━━━━━━━━━━━━━━━━━━━━━━━━━━━━━━━━━\u001b[0m \u001b[32m0.0/232.2 kB\u001b[0m \u001b[31m?\u001b[0m eta \u001b[36m-:--:--\u001b[0m\r\u001b[2K     \u001b[90m━━━━━━━━━━━━━━━━━━━━━━━━━━━━━━━━━━━━━━━━\u001b[0m \u001b[32m232.2/232.2 kB\u001b[0m \u001b[31m8.1 MB/s\u001b[0m eta \u001b[36m0:00:00\u001b[0m\n",
            "\u001b[?25hRequirement already satisfied: requests in /usr/local/lib/python3.10/dist-packages (from pyTelegramBotAPI) (2.31.0)\n",
            "Requirement already satisfied: charset-normalizer<4,>=2 in /usr/local/lib/python3.10/dist-packages (from requests->pyTelegramBotAPI) (3.3.2)\n",
            "Requirement already satisfied: idna<4,>=2.5 in /usr/local/lib/python3.10/dist-packages (from requests->pyTelegramBotAPI) (3.6)\n",
            "Requirement already satisfied: urllib3<3,>=1.21.1 in /usr/local/lib/python3.10/dist-packages (from requests->pyTelegramBotAPI) (2.0.7)\n",
            "Requirement already satisfied: certifi>=2017.4.17 in /usr/local/lib/python3.10/dist-packages (from requests->pyTelegramBotAPI) (2024.2.2)\n",
            "Installing collected packages: pyTelegramBotAPI\n",
            "Successfully installed pyTelegramBotAPI-4.16.1\n"
          ]
        }
      ],
      "source": [
        "!pip install pyTelegramBotAPI"
      ]
    },
    {
      "cell_type": "code",
      "source": [
        "# В google colab добавить: !pip install pyTelegramBotAPI\n",
        "# Чтобы добавить новое слово — нужно его прописать в объект DEFINITOINS на 13 строчке\n",
        "# Важно все новые аббривиатуры в коде писать только с маленьких букв\n",
        "# Пользователь в телеграм может писать и с большой и с маленькой — код всегда приводит к строчным\n",
        "\n",
        "from telebot import TeleBot, types\n",
        "\n",
        "bot = TeleBot(token='___________________________', parse_mode='html') # создание бота\n",
        "\n",
        "# словарь с определениями и аббревиатурами, которые знает бот\n",
        "# в формате:\n",
        "# 'ключевая фраза': 'соответствующее ей определение'\n",
        "DEFINITOINS = {\n",
        "    'регресс': 'Проверить что новый функционал не сломал существующий',\n",
        "    'баг': 'недостаток компонента или системы, который может привести к отказу определенной функциональности',\n",
        "    'валидация': 'процесс оценки системы или её компонентов с целью определения удовлетворяют ли результаты текущего этапа разработки условиям, сформированным в начале этого этапа',\n",
        "}\n",
        "\n",
        "# обработчик команды '/start'\n",
        "@bot.message_handler(commands=['start'])\n",
        "def start_command_handler(message: types.Message):\n",
        "    # отправляем ответ на команду '/start'\n",
        "    bot.send_message(\n",
        "        chat_id=message.chat.id, # id чата, в который необходимо направить сообщение\n",
        "        text='Привет! Я помогу тебе расшифровать сложные аббревиатуры и термины 🤓\\nВведи интересующий термин, например, регресс', # текст сообщения\n",
        "    )\n",
        "\n",
        "# обработчик всех остальных сообщений\n",
        "@bot.message_handler()\n",
        "def message_handler(message: types.Message):\n",
        "    # пробуем найти ключевую фразу в словаре\n",
        "    definition = DEFINITOINS.get(\n",
        "        message.text.lower(), # приводим текст сообщения к нижнему регистру\n",
        "    )\n",
        "    # если фразы нет в словаре, то переменная definition будет иметь значение None\n",
        "    # проверяем это условие\n",
        "    if definition is None:\n",
        "        # если ключевая фраза не была найдена в словаре\n",
        "        # отправляем ответ\n",
        "        bot.send_message(\n",
        "            chat_id=message.chat.id,\n",
        "            text='😋 Я пока не знаю такого определения',\n",
        "        )\n",
        "        # выходим из функции\n",
        "        return\n",
        "\n",
        "    # если ключевая фраза была найдена, формируем текст сообщения и отправляем его\n",
        "    # если перед строкой поставить букву f, то в фигурных скобках {} можно использовать переменные :)\n",
        "    bot.send_message(\n",
        "        chat_id=message.chat.id,\n",
        "        text=f'Определение:\\n<code>{definition}</code>',\n",
        "    )\n",
        "\n",
        "    bot.send_message(\n",
        "        chat_id=message.chat.id,\n",
        "        text=f'Жду следующий термин',\n",
        "    )\n",
        "\n",
        "\n",
        "# главная функция программы\n",
        "def main():\n",
        "    # запускаем нашего бота\n",
        "    bot.infinity_polling()\n",
        "\n",
        "\n",
        "if __name__ == '__main__':\n",
        "    main()\n"
      ],
      "metadata": {
        "id": "FGQp7HjSz3ec"
      },
      "execution_count": null,
      "outputs": []
    }
  ]
}
